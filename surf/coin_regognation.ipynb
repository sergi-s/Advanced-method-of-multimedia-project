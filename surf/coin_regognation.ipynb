{
 "cells": [
  {
   "cell_type": "code",
   "execution_count": 1,
   "metadata": {},
   "outputs": [],
   "source": [
    "import time \n",
    "import cv2\n",
    "import numpy as np\n",
    "import matplotlib.pyplot as plt\n",
    "import os"
   ]
  },
  {
   "cell_type": "code",
   "execution_count": 2,
   "metadata": {},
   "outputs": [],
   "source": [
    "class moneyPaper:\n",
    "    def __init__(self,name,front,back):\n",
    "        self.detector=cv2.xfeatures2d.SIFT_create()\n",
    "        self.name = name\n",
    "        self.front = front\n",
    "        self.back = back\n",
    "\n",
    "    def FrontH(self,trainKPFront,trainDescFront):\n",
    "        self.trainKPFront,self.trainDescFront=self.detector.detectAndCompute(self.front,None)\n",
    "        \n",
    "    def BackH(self,trainKPBack,trainDescBack):\n",
    "        self.trainKPBack,self.trainDescBack=self.detector.detectAndCompute(self.back,None)\n",
    "\n",
    "    def matched_features(self,inDesc):\n",
    "        matches=flann.knnMatch(inDesc,self.trainDescFront,k=2)\n",
    "        goodMatch1=[]\n",
    "        for m,n in matches:\n",
    "            if(m.distance<0.75*n.distance):goodMatch1.append(m)\n",
    "        matches=flann.knnMatch(inDesc,self.trainDescBack,k=2)\n",
    "        goodMatch2=[]\n",
    "        for m,n in matches:\n",
    "            if(m.distance<0.75*n.distance):goodMatch2.append(m)\n",
    "        return (max(len(goodMatch1),len(goodMatch2)),self)\n",
    "\n",
    "    def mostlilkly(img_array,inDesc):\n",
    "        possible=[(i.matched_features(inDesc)) for i in img_array]\n",
    "        max=0\n",
    "        result=\"\"\n",
    "        for j in possible:\n",
    "             if(j[0]>max):\n",
    "                 max=j[0]\n",
    "                 result=j[1].name\n",
    "        return result"
   ]
  },
  {
   "cell_type": "code",
   "execution_count": 3,
   "metadata": {},
   "outputs": [],
   "source": [
    "FLANN_INDEX_KDITREE=0\n",
    "flannParam=dict(algorithm=FLANN_INDEX_KDITREE,tree=5)\n",
    "flann=cv2.FlannBasedMatcher(flannParam,{})"
   ]
  },
  {
   "cell_type": "code",
   "execution_count": 4,
   "metadata": {},
   "outputs": [],
   "source": [
    "coins = [5,10,20,50,100,200]\n",
    "img_array=[]\n",
    "for i in coins:\n",
    "    img1 = cv2.imread(\"train/money_\"+str(i)+\"_0.jpg\",0)\n",
    "    img2 = cv2.imread(\"train/money_\"+str(i)+\"_1.jpg\",0)\n",
    "    money = moneyPaper(str(i),img1,img2)\n",
    "    img_array.append(money)"
   ]
  },
  {
   "cell_type": "code",
   "execution_count": 5,
   "metadata": {},
   "outputs": [],
   "source": [
    "detector=cv2.SIFT_create()\n",
    "trainKP = []\n",
    "trainDesc= []\n",
    "img_array2=[]\n",
    "for i in img_array:\n",
    "    trainKPFront,trainDescFront=detector.detectAndCompute(i.front,None)\n",
    "    trainKPBack,trainDescBack=detector.detectAndCompute(i.back,None)\n",
    "    i.FrontH(trainKPFront,trainDescFront)\n",
    "    i.BackH(trainKPBack,trainDescBack)"
   ]
  },
  {
   "cell_type": "code",
   "execution_count": 6,
   "metadata": {},
   "outputs": [],
   "source": [
    "# inp = cv2.imread(\"inputes/input2.jpg\",0)\n",
    "# inKP,inDesc=detector.detectAndCompute(inp,None)\n",
    "# res = moneyPaper.mostlilkly(img_array,inDesc)\n",
    "# print(\"It's most likly \"+(res)+\" L.E\")"
   ]
  },
  {
   "source": [
    "## About 60% Accuracy"
   ],
   "cell_type": "markdown",
   "metadata": {}
  },
  {
   "cell_type": "code",
   "execution_count": 7,
   "metadata": {},
   "outputs": [
    {
     "output_type": "stream",
     "name": "stdout",
     "text": [
      "10 back.jpg \t\t is most likly \t\t\t200 L.E\n",
      "10 front.jpg \t\t is most likly \t\t\t10 L.E\n",
      "10.0.jpg \t\t is most likly \t\t\t10 L.E\n",
      "10.1.jpg \t\t is most likly \t\t\t10 L.E\n",
      "100 back.jpg \t\t is most likly \t\t\t10 L.E\n",
      "100 front.jpg \t\t is most likly \t\t\t10 L.E\n",
      "100.0.jpg \t\t is most likly \t\t\t200 L.E\n",
      "100.1.jpg \t\t is most likly \t\t\t10 L.E\n",
      "100.2.jpg \t\t is most likly \t\t\t200 L.E\n",
      "100.3.jpg \t\t is most likly \t\t\t10 L.E\n",
      "100.4.jpg \t\t is most likly \t\t\t100 L.E\n",
      "100.5.jpg \t\t is most likly \t\t\t100 L.E\n",
      "20 back.jpg \t\t is most likly \t\t\t100 L.E\n",
      "20 front.jpg \t\t is most likly \t\t\t10 L.E\n",
      "20.0.jpg \t\t is most likly \t\t\t20 L.E\n",
      "20.1.jpg \t\t is most likly \t\t\t20 L.E\n",
      "20.2.jpg \t\t is most likly \t\t\t5 L.E\n",
      "20.3.jpg \t\t is most likly \t\t\t20 L.E\n",
      "200 back.jpg \t\t is most likly \t\t\t200 L.E\n",
      "200 front.jpg \t\t is most likly \t\t\t50 L.E\n",
      "200.0.jpg \t\t is most likly \t\t\t10 L.E\n",
      "200.1.jpg \t\t is most likly \t\t\t200 L.E\n",
      "200.2.jpg \t\t is most likly \t\t\t200 L.E\n",
      "200.3.jpg \t\t is most likly \t\t\t200 L.E\n",
      "5.0.jpg \t\t is most likly \t\t\t100 L.E\n",
      "5.1.jpg \t\t is most likly \t\t\t5 L.E\n",
      "50 back.jpg \t\t is most likly \t\t\t10 L.E\n",
      "50 front.jpg \t\t is most likly \t\t\t10 L.E\n",
      "IMG_20201226_201901.jpg \t\t is most likly \t\t\t200 L.E\n"
     ]
    }
   ],
   "source": [
    "for filename in os.listdir(\"inputes\"):\n",
    "    inp = cv2.imread(\"inputes/\"+filename,0)\n",
    "    inKP,inDesc=detector.detectAndCompute(inp,None)\n",
    "    res = moneyPaper.mostlilkly(img_array,inDesc)\n",
    "    print(filename,\"\\t\\t is most likly \\t\\t\\t\"+(res)+\" L.E\")"
   ]
  },
  {
   "cell_type": "code",
   "execution_count": null,
   "metadata": {},
   "outputs": [],
   "source": []
  }
 ],
 "metadata": {
  "kernelspec": {
   "display_name": "Python 3",
   "language": "python",
   "name": "python3"
  },
  "language_info": {
   "codemirror_mode": {
    "name": "ipython",
    "version": 3
   },
   "file_extension": ".py",
   "mimetype": "text/x-python",
   "name": "python",
   "nbconvert_exporter": "python",
   "pygments_lexer": "ipython3",
   "version": "3.8.5-final"
  }
 },
 "nbformat": 4,
 "nbformat_minor": 2
}